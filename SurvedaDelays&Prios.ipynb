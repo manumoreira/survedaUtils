{
  "nbformat": 4,
  "nbformat_minor": 0,
  "metadata": {
    "colab": {
      "provenance": [],
      "authorship_tag": "ABX9TyNnZOwDYXTackRv19vIg8CC",
      "include_colab_link": true
    },
    "kernelspec": {
      "name": "python3",
      "display_name": "Python 3"
    },
    "language_info": {
      "name": "python"
    }
  },
  "cells": [
    {
      "cell_type": "markdown",
      "metadata": {
        "id": "view-in-github",
        "colab_type": "text"
      },
      "source": [
        "<a href=\"https://colab.research.google.com/github/manumoreira/survedaUtils/blob/main/SurvedaDelays%26Prios.ipynb\" target=\"_parent\"><img src=\"https://colab.research.google.com/assets/colab-badge.svg\" alt=\"Open In Colab\"/></a>"
      ]
    },
    {
      "cell_type": "code",
      "execution_count": 5,
      "metadata": {
        "id": "kmsoejoPNmSv"
      },
      "outputs": [],
      "source": [
        "import pandas as pd\n",
        "import numpy as np\n",
        "import matplotlib.pyplot as plt\n",
        "import seaborn as sns\n",
        "import datetime as dt\n",
        "from collections import defaultdict\n",
        "from google.colab import files"
      ]
    },
    {
      "cell_type": "markdown",
      "source": [
        "## This notebook calculates delays and priorities in a Surveda survey\n",
        "\n",
        "Surveys have a defined retry window, this code aims to check if the contact attempts match those settings.\n",
        "\n",
        "The **Channel broker** handles the contact attempts that are sent to the channels, it has 2 queues High (1) and Normal (0) tha script check if the contact attempts were sent according to these priorities"
      ],
      "metadata": {
        "id": "kWq8Ta38Nsbk"
      }
    },
    {
      "cell_type": "code",
      "source": [
        "#Load data\n",
        "\n",
        "interaction_df = pd.read_csv('https://surveda-stg.instedd.org/link/8ba3cf8bfec35e054d0654ea31ff8231')\n",
        "results_df = pd.read_csv('https://surveda-stg.instedd.org/link/570eb9e34c41b9d2475b42e5dec6eaf1')\n",
        "\n",
        "#print(interaction_df.head())\n",
        "#print(results_df.head())"
      ],
      "metadata": {
        "colab": {
          "base_uri": "https://localhost:8080/"
        },
        "id": "cCZ5W9auO9Sc",
        "outputId": "5c20ea31-4173-4552-acbc-d081154326be"
      },
      "execution_count": 6,
      "outputs": [
        {
          "output_type": "stream",
          "name": "stderr",
          "text": [
            "<ipython-input-6-519b09cbe775>:4: DtypeWarning: Columns (3,7,10,11,12,14,15,16,17,18,19,20,21,22,23,24,25,26,27,28,29,30,31,32,33,34,36,37,38,39,40,41,42) have mixed types. Specify dtype option on import or set low_memory=False.\n",
            "  results_df = pd.read_csv('https://surveda-stg.instedd.org/link/570eb9e34c41b9d2475b42e5dec6eaf1')\n"
          ]
        }
      ]
    },
    {
      "cell_type": "code",
      "source": [
        "# Filter data\n",
        "\n",
        "filter_out = ['Enqueueing call', 'Timeout', 'User hangup']\n",
        "#\n",
        "contact_inter_df = interaction_df.loc[(interaction_df['Action Type'] == 'Contact attempt') & (~interaction_df['Action Data'].isin(filter_out))]\n",
        "contact_inter_df = contact_inter_df.sort_values(['Respondent ID','ID'])\n",
        "\n",
        "#print(contact_inter_df)\n",
        "print(contact_inter_df.head())"
      ],
      "metadata": {
        "colab": {
          "base_uri": "https://localhost:8080/"
        },
        "id": "oe0Fy95xVtbw",
        "outputId": "e926921c-1a14-4d03-d226-f7017af292b4"
      },
      "execution_count": 8,
      "outputs": [
        {
          "output_type": "stream",
          "name": "stdout",
          "text": [
            "         ID  Respondent ID Mode        Channel Disposition      Action Type  \\\n",
            "1   4365541  r0001862425da  IVR  twiliosim-stg      Queued  Contact attempt   \n",
            "2   4406604  r0001862425da  IVR  twiliosim-stg      Queued  Contact attempt   \n",
            "19  4423565  r00048f04776d  IVR  twiliosim-stg      Queued  Contact attempt   \n",
            "20  4461522  r00048f04776d  IVR  twiliosim-stg      Queued  Contact attempt   \n",
            "23  4445341  r00054bf9ae6c  IVR  twiliosim-stg      Queued  Contact attempt   \n",
            "\n",
            "   Action Data                  Timestamp  \n",
            "1    no-answer  2024-08-27 15:29:56 GMT-3  \n",
            "2       Answer  2024-08-28 15:34:08 GMT-3  \n",
            "19   no-answer  2024-08-29 08:26:45 GMT-3  \n",
            "20   no-answer  2024-08-30 10:16:02 GMT-3  \n",
            "23   no-answer  2024-08-29 14:42:23 GMT-3  \n"
          ]
        }
      ]
    },
    {
      "cell_type": "code",
      "source": [
        "# Calculate retry time\n",
        "\n",
        "def calculate_retry_time (input_date, delay_hours: int, start_window: int, end_window: int):\n",
        "  start_date = pd.to_datetime(input_date).tz_localize(None)\n",
        "  target_datetime = start_date + pd.DateOffset(hours=delay_hours)\n",
        "  if start_window <= target_datetime.hour < end_window:\n",
        "        valid_target_datetime = target_datetime\n",
        "  else:\n",
        "    # Calculate valid_target_datetime for the case when it's outside the time window\n",
        "    if target_datetime.hour < start_window:\n",
        "        valid_target_datetime = pd.Timestamp(\n",
        "            year=target_datetime.year,\n",
        "            month=target_datetime.month,\n",
        "            day=target_datetime.day,\n",
        "            hour=start_window\n",
        "        )\n",
        "    else:\n",
        "        valid_target_datetime = pd.Timestamp(\n",
        "            year=target_datetime.year,\n",
        "            month=target_datetime.month,\n",
        "            day=target_datetime.day,\n",
        "            hour=start_window\n",
        "        ) + pd.DateOffset(days=1)\n",
        "\n",
        "  return valid_target_datetime\n",
        "\n",
        "# Example usage\n",
        "input_date = '2024-08-30 18:51:20 GMT-3'  # Example start date\n",
        "delay_hours = 26\n",
        "start_window = 8\n",
        "end_window = 20\n",
        "\n",
        "result = calculate_retry_time(input_date, delay_hours, start_window, end_window)\n",
        "print(result)"
      ],
      "metadata": {
        "colab": {
          "base_uri": "https://localhost:8080/"
        },
        "id": "EgM58FZeum9F",
        "outputId": "faec4015-1530-40d3-c33e-a65856866aeb"
      },
      "execution_count": 9,
      "outputs": [
        {
          "output_type": "stream",
          "name": "stdout",
          "text": [
            "2024-09-01 08:00:00\n"
          ]
        }
      ]
    },
    {
      "cell_type": "markdown",
      "source": [
        "# Calculate retry time delays\n",
        "\n",
        "This code crawls the interactions file, seareching for the contact attempt registries and compares its timestamo with the estimated (using calculate_retry_time)"
      ],
      "metadata": {
        "id": "Zdd7rDQ0VhrD"
      }
    },
    {
      "cell_type": "code",
      "source": [
        "# Diff between estimates and real call time\n",
        "\n",
        "\n",
        "def retry_accuracy(data, delay_hours: int, start_window: int, end_window: int, retries: int):\n",
        "\n",
        "    result_list = []\n",
        "\n",
        "    data['Timestamp'] = pd.to_datetime(data['Timestamp']).dt.tz_localize(None)\n",
        "\n",
        "    # Group by 'Respondent ID'\n",
        "    respondents_id = data.groupby('Respondent ID')\n",
        "\n",
        "    for respondent_id, group in respondents_id:\n",
        "        occurrences = len(group)\n",
        "\n",
        "        if occurrences > 1:\n",
        "            timestamps = pd.to_datetime(group['Timestamp'])\n",
        "            initial_time = calculate_retry_time(timestamps.iloc[0], delay_hours, start_window, end_window)\n",
        "\n",
        "            differences = []\n",
        "            for i in range(1, min(occurrences, retries + 1)):\n",
        "              diff = (timestamps.iloc[i] - initial_time)\n",
        "              differences.append(diff.total_seconds()/3600)\n",
        "              initial_time = calculate_retry_time(timestamps.iloc[i], delay_hours, start_window, end_window)\n",
        "\n",
        "            result_list.append([respondent_id] + differences)\n",
        "\n",
        "    # Creating the final DataFrame with dynamically added columns\n",
        "    columns = ['Respondent ID'] + [f'Lag_in_{i+1}_attempt' for i in range(retries)]\n",
        "    contact_lag_df = pd.DataFrame(result_list, columns=columns)\n",
        "\n",
        "    return contact_lag_df\n",
        "\n",
        "retries = 1\n",
        "delay_hours = 26\n",
        "start_window = 8\n",
        "end_window = 20\n",
        "\n",
        "contact_lag_df = retry_accuracy(contact_inter_df, delay_hours, start_window, end_window, retries)\n",
        "\n",
        "# Create csv file to export\n",
        "contact_lag_df.to_csv('contactLag.csv', index=False)\n",
        "files.download('contactLag.csv')\n",
        "\n",
        "# Plot differences\n",
        "column_names = [f'Lag_in_{i+1}_attempt' for i in range(retries)]\n",
        "plt.figure(figsize=(5 * retries, 5))\n",
        "\n",
        "for i, col in enumerate(column_names):\n",
        "    if col in contact_lag_df.columns:\n",
        "        plt.subplot(1, retries, i+1)\n",
        "        sns.histplot(contact_lag_df[col].dropna(), bins=20, kde=True, label=col)\n",
        "        plt.title(f'Density Curve for {col}')\n",
        "        plt.xlabel('Difference in Hours')\n",
        "        plt.ylabel('Frequency')\n",
        "        plt.legend()\n",
        "        plt.grid(True)\n",
        "\n",
        "plt.tight_layout()\n",
        "plt.show()"
      ],
      "metadata": {
        "colab": {
          "base_uri": "https://localhost:8080/",
          "height": 487
        },
        "id": "EADOPZSNVhQm",
        "outputId": "562090b4-b1e7-4db9-a9c5-4b07d4729c4b"
      },
      "execution_count": 28,
      "outputs": [
        {
          "output_type": "display_data",
          "data": {
            "text/plain": [
              "<Figure size 640x480 with 1 Axes>"
            ],
            "image/png": "[encoded data removed]"
          },
          "metadata": {}
        }
      ]
    },
    {
      "cell_type": "code",
      "source": [
        "# Verify Channel Broker priorities\n",
        "\n",
        "# Order Respondents IDs by ID (it actually orders by Contact time, we do not use Timestamp because it doesn't consider miliseconds)\n",
        "# Once we have an ordered list of Respondents IDs by its first contact attemmpt we assign them to a group priroty 1+number of day and then iterate the list\n",
        "#"
      ],
      "metadata": {
        "id": "54mLqmZQoNxt"
      },
      "execution_count": null,
      "outputs": []
    }
  ]
}